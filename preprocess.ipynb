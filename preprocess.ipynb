{
 "cells": [
  {
   "cell_type": "code",
   "execution_count": 1,
   "metadata": {},
   "outputs": [],
   "source": [
    "import pandas as pd\n"
   ]
  },
  {
   "cell_type": "markdown",
   "metadata": {},
   "source": [
    "## Pre process\n"
   ]
  },
  {
   "cell_type": "markdown",
   "metadata": {},
   "source": [
    "Start of with extracting the lowest observed heartrate during sleep for userid over all days recored."
   ]
  },
  {
   "cell_type": "code",
   "execution_count": 2,
   "metadata": {},
   "outputs": [],
   "source": [
    "heart_rate_data = pd.read_csv('data/heartrate_seconds_merged.csv')\n",
    "\n",
    "sleep_data = pd.read_csv('data/minuteSleep_merged.csv')\n",
    "\n",
    "heart_rate_df = pd.DataFrame(heart_rate_data)\n",
    "\n",
    "sleep_df = pd.DataFrame(sleep_data)\n",
    "\n",
    "heart_rate_df['Time'] = pd.to_datetime(heart_rate_df['Time'])\n",
    "sleep_df['date'] = pd.to_datetime(sleep_df['date']).dt.date  # Extracting only date"
   ]
  },
  {
   "cell_type": "markdown",
   "metadata": {},
   "source": [
    "When you merge the heart rate data with the sleep data based on the user ID and date, each heart rate measurement will be matched with the sleep data point that falls within the same minute. This ensures that you're considering the heart rate data closest in time to each sleep data point, even though the sampling frequencies are different."
   ]
  },
  {
   "cell_type": "code",
   "execution_count": 3,
   "metadata": {},
   "outputs": [],
   "source": [
    "# Merge heart rate and sleep data based on user ID and date\n",
    "merged_df = pd.merge(heart_rate_df, sleep_df, left_on=['Id', heart_rate_df['Time'].dt.date], right_on=['Id', 'date'])"
   ]
  },
  {
   "cell_type": "code",
   "execution_count": 5,
   "metadata": {},
   "outputs": [],
   "source": [
    "# Find the lowest observed heart rate during sleep for each user and date\n",
    "resting_heart_rate_df = merged_df.groupby(['Id', 'date'])['Value'].min().reset_index()\n",
    "\n",
    "# Rename columns for clarity\n",
    "resting_heart_rate_df.columns = ['Id', 'Date', 'Resting Heart Rate']\n",
    "\n"
   ]
  },
  {
   "cell_type": "code",
   "execution_count": 8,
   "metadata": {},
   "outputs": [
    {
     "data": {
      "text/html": [
       "<div>\n",
       "<style scoped>\n",
       "    .dataframe tbody tr th:only-of-type {\n",
       "        vertical-align: middle;\n",
       "    }\n",
       "\n",
       "    .dataframe tbody tr th {\n",
       "        vertical-align: top;\n",
       "    }\n",
       "\n",
       "    .dataframe thead th {\n",
       "        text-align: right;\n",
       "    }\n",
       "</style>\n",
       "<table border=\"1\" class=\"dataframe\">\n",
       "  <thead>\n",
       "    <tr style=\"text-align: right;\">\n",
       "      <th></th>\n",
       "      <th>Id</th>\n",
       "      <th>Date</th>\n",
       "      <th>Resting Heart Rate</th>\n",
       "    </tr>\n",
       "  </thead>\n",
       "  <tbody>\n",
       "    <tr>\n",
       "      <th>0</th>\n",
       "      <td>2026352035</td>\n",
       "      <td>2016-04-02</td>\n",
       "      <td>57</td>\n",
       "    </tr>\n",
       "  </tbody>\n",
       "</table>\n",
       "</div>"
      ],
      "text/plain": [
       "           Id        Date  Resting Heart Rate\n",
       "0  2026352035  2016-04-02                  57"
      ]
     },
     "execution_count": 8,
     "metadata": {},
     "output_type": "execute_result"
    }
   ],
   "source": [
    "resting_heart_rate_df[resting_heart_rate_df['Id'] == 2026352035]"
   ]
  }
 ],
 "metadata": {
  "kernelspec": {
   "display_name": "Python 3",
   "language": "python",
   "name": "python3"
  },
  "language_info": {
   "codemirror_mode": {
    "name": "ipython",
    "version": 3
   },
   "file_extension": ".py",
   "mimetype": "text/x-python",
   "name": "python",
   "nbconvert_exporter": "python",
   "pygments_lexer": "ipython3",
   "version": "3.12.1"
  }
 },
 "nbformat": 4,
 "nbformat_minor": 2
}
