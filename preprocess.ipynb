{
 "cells": [
  {
   "cell_type": "code",
   "execution_count": 1,
   "metadata": {},
   "outputs": [],
   "source": [
    "import pandas as pd"
   ]
  },
  {
   "cell_type": "markdown",
   "metadata": {},
   "source": [
    "## Pre process\n"
   ]
  },
  {
   "cell_type": "code",
   "execution_count": 15,
   "metadata": {},
   "outputs": [],
   "source": [
    "sleep_data = pd.read_csv('data/minuteSleep_merged.csv')\n",
    "sleep_df = pd.DataFrame(sleep_data)"
   ]
  },
  {
   "cell_type": "markdown",
   "metadata": {},
   "source": [
    "Lets transform the minute_sleep data frame into detailed_sleep_data. Sleep_df contains the data for every minute of a sleep session. The value row indicates the sleep state which has meaning stated in Fitabase data dictionary as:\n",
    "1: asleep\n",
    "2: restless\n",
    "3: awake"
   ]
  },
  {
   "cell_type": "code",
   "execution_count": 13,
   "metadata": {},
   "outputs": [],
   "source": [
    "# Convert date column to datetime type\n",
    "sleep_df['date'] = pd.to_datetime(sleep_df['date'])\n",
    "\n",
    "# Aggregate minute_sleep data to get detailed_sleep_data\n",
    "detailed_sleep_data = sleep_df.groupby(['Id', 'logId']).agg(\n",
    "    start_time=('date', 'min'),\n",
    "    end_time=('date', 'max'),\n",
    "    total_minutes=('value', 'count'),\n",
    "    asleep_minutes=('value', lambda x: (x == 1).sum()),\n",
    "    restless_minutes=('value', lambda x: (x == 2).sum()),\n",
    "    awake_minutes=('value', lambda x: (x == 3).sum())\n",
    ").reset_index()"
   ]
  },
  {
   "cell_type": "code",
   "execution_count": 16,
   "metadata": {},
   "outputs": [
    {
     "data": {
      "text/html": [
       "<div>\n",
       "<style scoped>\n",
       "    .dataframe tbody tr th:only-of-type {\n",
       "        vertical-align: middle;\n",
       "    }\n",
       "\n",
       "    .dataframe tbody tr th {\n",
       "        vertical-align: top;\n",
       "    }\n",
       "\n",
       "    .dataframe thead th {\n",
       "        text-align: right;\n",
       "    }\n",
       "</style>\n",
       "<table border=\"1\" class=\"dataframe\">\n",
       "  <thead>\n",
       "    <tr style=\"text-align: right;\">\n",
       "      <th></th>\n",
       "      <th>Id</th>\n",
       "      <th>logId</th>\n",
       "      <th>start_time</th>\n",
       "      <th>end_time</th>\n",
       "      <th>total_minutes</th>\n",
       "      <th>asleep_minutes</th>\n",
       "      <th>restless_minutes</th>\n",
       "      <th>awake_minutes</th>\n",
       "    </tr>\n",
       "  </thead>\n",
       "  <tbody>\n",
       "    <tr>\n",
       "      <th>0</th>\n",
       "      <td>1503960366</td>\n",
       "      <td>11114919637</td>\n",
       "      <td>2016-03-13 02:39:30</td>\n",
       "      <td>2016-03-13 09:44:30</td>\n",
       "      <td>426</td>\n",
       "      <td>411</td>\n",
       "      <td>15</td>\n",
       "      <td>0</td>\n",
       "    </tr>\n",
       "    <tr>\n",
       "      <th>1</th>\n",
       "      <td>1503960366</td>\n",
       "      <td>11126343681</td>\n",
       "      <td>2016-03-14 01:32:00</td>\n",
       "      <td>2016-03-14 07:57:00</td>\n",
       "      <td>386</td>\n",
       "      <td>354</td>\n",
       "      <td>27</td>\n",
       "      <td>5</td>\n",
       "    </tr>\n",
       "    <tr>\n",
       "      <th>2</th>\n",
       "      <td>1503960366</td>\n",
       "      <td>11134971215</td>\n",
       "      <td>2016-03-15 02:36:00</td>\n",
       "      <td>2016-03-15 08:10:00</td>\n",
       "      <td>335</td>\n",
       "      <td>312</td>\n",
       "      <td>16</td>\n",
       "      <td>7</td>\n",
       "    </tr>\n",
       "    <tr>\n",
       "      <th>3</th>\n",
       "      <td>1503960366</td>\n",
       "      <td>11142197163</td>\n",
       "      <td>2016-03-16 03:12:00</td>\n",
       "      <td>2016-03-16 08:14:00</td>\n",
       "      <td>303</td>\n",
       "      <td>272</td>\n",
       "      <td>26</td>\n",
       "      <td>5</td>\n",
       "    </tr>\n",
       "    <tr>\n",
       "      <th>4</th>\n",
       "      <td>1503960366</td>\n",
       "      <td>11142197164</td>\n",
       "      <td>2016-03-16 19:43:00</td>\n",
       "      <td>2016-03-16 20:45:00</td>\n",
       "      <td>63</td>\n",
       "      <td>61</td>\n",
       "      <td>2</td>\n",
       "      <td>0</td>\n",
       "    </tr>\n",
       "  </tbody>\n",
       "</table>\n",
       "</div>"
      ],
      "text/plain": [
       "           Id        logId          start_time            end_time  \\\n",
       "0  1503960366  11114919637 2016-03-13 02:39:30 2016-03-13 09:44:30   \n",
       "1  1503960366  11126343681 2016-03-14 01:32:00 2016-03-14 07:57:00   \n",
       "2  1503960366  11134971215 2016-03-15 02:36:00 2016-03-15 08:10:00   \n",
       "3  1503960366  11142197163 2016-03-16 03:12:00 2016-03-16 08:14:00   \n",
       "4  1503960366  11142197164 2016-03-16 19:43:00 2016-03-16 20:45:00   \n",
       "\n",
       "   total_minutes  asleep_minutes  restless_minutes  awake_minutes  \n",
       "0            426             411                15              0  \n",
       "1            386             354                27              5  \n",
       "2            335             312                16              7  \n",
       "3            303             272                26              5  \n",
       "4             63              61                 2              0  "
      ]
     },
     "execution_count": 16,
     "metadata": {},
     "output_type": "execute_result"
    }
   ],
   "source": [
    "detailed_sleep_data.head()"
   ]
  },
  {
   "cell_type": "markdown",
   "metadata": {},
   "source": [
    "Now we will handle the heartrate data, lets take out all the heartrate data related to the sleep of the user."
   ]
  },
  {
   "cell_type": "code",
   "execution_count": 17,
   "metadata": {},
   "outputs": [],
   "source": [
    "heartrate_data = pd.read_csv('data/heartrate_seconds_merged.csv')\n",
    "heartrate_df = pd.DataFrame(heartrate_data)"
   ]
  },
  {
   "cell_type": "code",
   "execution_count": 18,
   "metadata": {},
   "outputs": [],
   "source": [
    "# Convert Time column to datetime type\n",
    "heartrate_df['Time'] = pd.to_datetime(heartrate_df['Time'])"
   ]
  },
  {
   "cell_type": "code",
   "execution_count": 19,
   "metadata": {},
   "outputs": [],
   "source": [
    "# Function to filer out the heartrate based on users sleep session\n",
    "def filter_heartrate_from_sleep(sleep_data_row, heart_rate_data):\n",
    "    filter_data = heart_rate_data[(heart_rate_data['Time'] >= sleep_data_row['start_time']) & \n",
    "                                 (heart_rate_data['Time'] <= sleep_data_row['end_time'])]\n",
    "    return filter_data"
   ]
  },
  {
   "cell_type": "code",
   "execution_count": 29,
   "metadata": {},
   "outputs": [
    {
     "name": "stdout",
     "output_type": "stream",
     "text": [
      "                 Id        Time  Value\n",
      "57626    2347167796  2016-03-29     67\n",
      "57627    2347167796  2016-03-29     68\n",
      "57628    2347167796  2016-03-29     68\n",
      "57629    2347167796  2016-03-29     69\n",
      "57630    2347167796  2016-03-29     68\n",
      "...             ...         ...    ...\n",
      "1137241  8877689391  2016-04-09     79\n",
      "1137242  8877689391  2016-04-09     80\n",
      "1137243  8877689391  2016-04-09     79\n",
      "1137244  8877689391  2016-04-09     78\n",
      "1137245  8877689391  2016-04-09     79\n",
      "\n",
      "[3848143 rows x 3 columns]\n"
     ]
    }
   ],
   "source": [
    "# Apply the function to each row of detailed_sleep_data\n",
    "heart_rate_sleep_data = detailed_sleep_data.apply(lambda row: filter_heartrate_from_sleep(row, heartrate_df), axis=1)\n",
    "\n",
    "# Concatenate the filtered heart rate data into a single DataFrame\n",
    "heart_rate_sleep_data = pd.concat(heart_rate_sleep_data.tolist())\n",
    "\n",
    "heart_rate_sleep_data['Time']= heart_rate_sleep_data['Time'].dt.date\n",
    "\n",
    "print(heart_rate_sleep_data)"
   ]
  },
  {
   "cell_type": "markdown",
   "metadata": {},
   "source": [
    "Lets find the lowers observed heartrate during every night for every user and call this resting heart rate"
   ]
  },
  {
   "cell_type": "code",
   "execution_count": 30,
   "metadata": {},
   "outputs": [
    {
     "name": "stdout",
     "output_type": "stream",
     "text": [
      "             Id        Time  resting_heart_rate\n",
      "0    2022484408  2016-04-01                  53\n",
      "1    2022484408  2016-04-02                  55\n",
      "2    2022484408  2016-04-03                  50\n",
      "3    2022484408  2016-04-04                  54\n",
      "4    2022484408  2016-04-05                  53\n",
      "..          ...         ...                 ...\n",
      "138  8877689391  2016-04-08                  54\n",
      "139  8877689391  2016-04-09                  49\n",
      "140  8877689391  2016-04-10                  53\n",
      "141  8877689391  2016-04-11                  47\n",
      "142  8877689391  2016-04-12                  47\n",
      "\n",
      "[143 rows x 3 columns]\n"
     ]
    }
   ],
   "source": [
    "rhr_df = heart_rate_sleep_data.groupby(['Id','Time']).agg(\n",
    "    resting_heart_rate = ('Value', 'min')\n",
    ").reset_index()\n",
    "\n",
    "print(rhr_df)"
   ]
  },
  {
   "cell_type": "markdown",
   "metadata": {},
   "source": [
    "Now lets merge the sleep and rhr to one dataframe for simplicity"
   ]
  },
  {
   "cell_type": "code",
   "execution_count": 32,
   "metadata": {},
   "outputs": [
    {
     "name": "stdout",
     "output_type": "stream",
     "text": [
      "            Id        logId  start_time    end_time  total_minutes  \\\n",
      "0   2026352035  11292296207  2016-04-02  2016-04-03            580   \n",
      "1   2347167796  11258976452  2016-03-29  2016-03-30            529   \n",
      "2   2347167796  11267974466  2016-03-30  2016-03-31            534   \n",
      "3   2347167796  11277129330  2016-03-31  2016-04-01            529   \n",
      "4   2347167796  11285072012  2016-04-02  2016-04-02            459   \n",
      "..         ...          ...         ...         ...            ...   \n",
      "92  8792009665  11339506278  2016-04-08  2016-04-08            178   \n",
      "93  8792009665  11341973497  2016-04-08  2016-04-08            269   \n",
      "94  8792009665  11346641639  2016-04-09  2016-04-09            281   \n",
      "95  8792009665  11349628943  2016-04-09  2016-04-09            277   \n",
      "96  8792009665  11357751881  2016-04-09  2016-04-09             80   \n",
      "\n",
      "    asleep_minutes  restless_minutes  awake_minutes  resting_heart_rate  \n",
      "0              528                43              9                  57  \n",
      "1              490                36              3                  53  \n",
      "2              486                38             10                  51  \n",
      "3              495                32              2                  51  \n",
      "4              414                35             10                  58  \n",
      "..             ...               ...            ...                 ...  \n",
      "92             166                 8              4                  47  \n",
      "93             258                 7              4                  47  \n",
      "94             260                19              2                  45  \n",
      "95             267                10              0                  45  \n",
      "96              74                 5              1                  45  \n",
      "\n",
      "[97 rows x 9 columns]\n"
     ]
    }
   ],
   "source": [
    "detailed_sleep_data['start_time'] = pd.to_datetime(detailed_sleep_data['start_time']).dt.date\n",
    "detailed_sleep_data['end_time'] = pd.to_datetime(detailed_sleep_data['end_time']).dt.date\n",
    "\n",
    "# Merge detailed_sleep_data and recovery_df on 'Id' and 'start_time'/'end_time'\n",
    "recovery_merged = pd.merge(detailed_sleep_data, rhr_df, left_on=['Id', 'start_time'], right_on=['Id', 'Time'], how='inner')\n",
    "recovery_merged.drop('Time', axis=1, inplace=True)\n",
    "\n",
    "# Display the resulting DataFrame\n",
    "print(recovery_merged)"
   ]
  },
  {
   "cell_type": "markdown",
   "metadata": {},
   "source": [
    "Now lets normalize asleep_minutes and resting heart rate!"
   ]
  },
  {
   "cell_type": "code",
   "execution_count": 35,
   "metadata": {},
   "outputs": [],
   "source": [
    "from sklearn.preprocessing import MinMaxScaler\n",
    "scaler = MinMaxScaler()\n",
    "recovery_merged[['asleep_minutes_norm', 'resting_heart_rate_norm']] = scaler.fit_transform(recovery_merged[['asleep_minutes', 'resting_heart_rate']])\n"
   ]
  },
  {
   "cell_type": "markdown",
   "metadata": {},
   "source": [
    "Lets build a function that calculate a recover of 0 - 100% based on the rhr and asleep min norm"
   ]
  },
  {
   "cell_type": "code",
   "execution_count": 42,
   "metadata": {},
   "outputs": [],
   "source": [
    "def calculate_recovery_score(asleep_min_norm, rhr_norm):\n",
    "    rhr_weight = 0.6\n",
    "    asleep_weight = 0.4\n",
    "\n",
    "    recovery_score = (rhr_weight * rhr_norm) + (asleep_weight * (1 - asleep_min_norm))\n",
    "\n",
    "    recovery_score = recovery_score * 100\n",
    "\n",
    "    return recovery_score"
   ]
  },
  {
   "cell_type": "markdown",
   "metadata": {},
   "source": [
    "LETS CALCULATE!!"
   ]
  },
  {
   "cell_type": "code",
   "execution_count": 43,
   "metadata": {},
   "outputs": [
    {
     "name": "stdout",
     "output_type": "stream",
     "text": [
      "            Id        logId  start_time    end_time  total_minutes  \\\n",
      "0   2026352035  11292296207  2016-04-02  2016-04-03            580   \n",
      "1   2347167796  11258976452  2016-03-29  2016-03-30            529   \n",
      "2   2347167796  11267974466  2016-03-30  2016-03-31            534   \n",
      "3   2347167796  11277129330  2016-03-31  2016-04-01            529   \n",
      "4   2347167796  11285072012  2016-04-02  2016-04-02            459   \n",
      "..         ...          ...         ...         ...            ...   \n",
      "92  8792009665  11339506278  2016-04-08  2016-04-08            178   \n",
      "93  8792009665  11341973497  2016-04-08  2016-04-08            269   \n",
      "94  8792009665  11346641639  2016-04-09  2016-04-09            281   \n",
      "95  8792009665  11349628943  2016-04-09  2016-04-09            277   \n",
      "96  8792009665  11357751881  2016-04-09  2016-04-09             80   \n",
      "\n",
      "    asleep_minutes  restless_minutes  awake_minutes  resting_heart_rate  \\\n",
      "0              528                43              9                  57   \n",
      "1              490                36              3                  53   \n",
      "2              486                38             10                  51   \n",
      "3              495                32              2                  51   \n",
      "4              414                35             10                  58   \n",
      "..             ...               ...            ...                 ...   \n",
      "92             166                 8              4                  47   \n",
      "93             258                 7              4                  47   \n",
      "94             260                19              2                  45   \n",
      "95             267                10              0                  45   \n",
      "96              74                 5              1                  45   \n",
      "\n",
      "    asleep_minutes_norm  resting_heart_rate_norm  Recovery_score  \n",
      "0              0.786667                 0.777778       55.200000  \n",
      "1              0.723333                 0.629630       48.844444  \n",
      "2              0.716667                 0.555556       44.666667  \n",
      "3              0.731667                 0.555556       44.066667  \n",
      "4              0.596667                 0.814815       65.022222  \n",
      "..                  ...                      ...             ...  \n",
      "92             0.183333                 0.407407       57.111111  \n",
      "93             0.336667                 0.407407       50.977778  \n",
      "94             0.340000                 0.333333       46.400000  \n",
      "95             0.351667                 0.333333       45.933333  \n",
      "96             0.030000                 0.333333       58.800000  \n",
      "\n",
      "[97 rows x 12 columns]\n"
     ]
    }
   ],
   "source": [
    "recovery_merged['Recovery_score'] = calculate_recovery_score(recovery_merged['asleep_minutes_norm'], recovery_merged['resting_heart_rate_norm'])\n",
    "\n",
    "print(recovery_merged)"
   ]
  }
 ],
 "metadata": {
  "kernelspec": {
   "display_name": "Python 3",
   "language": "python",
   "name": "python3"
  },
  "language_info": {
   "codemirror_mode": {
    "name": "ipython",
    "version": 3
   },
   "file_extension": ".py",
   "mimetype": "text/x-python",
   "name": "python",
   "nbconvert_exporter": "python",
   "pygments_lexer": "ipython3",
   "version": "3.12.1"
  }
 },
 "nbformat": 4,
 "nbformat_minor": 2
}
